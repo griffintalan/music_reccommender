{
 "cells": [
  {
   "cell_type": "code",
   "execution_count": 48,
   "metadata": {},
   "outputs": [],
   "source": [
    "import numpy as np\n",
    "import pandas as pd\n",
    "import requests\n",
    "import time"
   ]
  },
  {
   "cell_type": "code",
   "execution_count": 54,
   "metadata": {},
   "outputs": [],
   "source": [
    "api_key = \"6bb7f55c691d1bdff841fdc67934b3b8\""
   ]
  },
  {
   "cell_type": "markdown",
   "metadata": {},
   "source": [
    "## Top Tags"
   ]
  },
  {
   "cell_type": "code",
   "execution_count": 55,
   "metadata": {},
   "outputs": [],
   "source": [
    "params_get_tags = {\n",
    "    \"method\" : \"tag.getTopTags\",\n",
    "    \"format\" : \"json\",\n",
    "    \"api_key\" : api_key,\n",
    "}"
   ]
  },
  {
   "cell_type": "code",
   "execution_count": 56,
   "metadata": {},
   "outputs": [],
   "source": [
    "data = requests.get('http://ws.audioscrobbler.com/2.0/', params=params_get_tags)"
   ]
  },
  {
   "cell_type": "code",
   "execution_count": 57,
   "metadata": {},
   "outputs": [],
   "source": [
    "toptags = []\n",
    "for row in data.json()['toptags']['tag']:\n",
    "    toptags.append(row['name'])"
   ]
  },
  {
   "cell_type": "code",
   "execution_count": 63,
   "metadata": {},
   "outputs": [
    {
     "data": {
      "text/plain": [
       "'rock'"
      ]
     },
     "execution_count": 63,
     "metadata": {},
     "output_type": "execute_result"
    }
   ],
   "source": [
    "toptags[0]"
   ]
  },
  {
   "cell_type": "markdown",
   "metadata": {},
   "source": [
    "### Top Tags Summary Information"
   ]
  },
  {
   "cell_type": "code",
   "execution_count": 76,
   "metadata": {},
   "outputs": [
    {
     "name": "stdout",
     "output_type": "stream",
     "text": [
      "Getting information for rock tag.\n",
      "      Preview: Rock music is a genr\n",
      "Getting information for electronic tag.\n",
      "      Preview: Electronic music ref\n",
      "Getting information for seen live tag.\n",
      "      Preview: **** IF YOU ARE A US\n",
      "Getting information for alternative tag.\n",
      "      Preview: Alternative pop/rock\n",
      "Getting information for indie tag.\n",
      "      Preview: Indie is a particula\n",
      "Getting information for pop tag.\n",
      "      Preview: \"Pop music\" is a bro\n",
      "Getting information for female vocalists tag.\n",
      "      Preview: This tag describes a\n",
      "Getting information for metal tag.\n",
      "      Preview: Heavy metal (often r\n",
      "Getting information for alternative rock tag.\n",
      "      Preview: Alternative rock (al\n",
      "Getting information for jazz tag.\n",
      "      Preview: Jazz is a musical ar\n",
      "Getting information for classic rock tag.\n",
      "      Preview: Classic rock was ori\n",
      "Getting information for ambient tag.\n",
      "      Preview: Ambient music is a m\n",
      "Getting information for experimental tag.\n",
      "      Preview: Experimental music r\n",
      "Getting information for folk tag.\n",
      "      Preview: Folk music can have \n",
      "Getting information for punk tag.\n",
      "      Preview: Rooted in garage roc\n",
      "Getting information for indie rock tag.\n",
      "      Preview: Indie rock is a vagu\n",
      "Getting information for Hip-Hop tag.\n",
      "      Preview: Hip-hop, also spelle\n",
      "Getting information for hard rock tag.\n",
      "      Preview: Hard rock is a loose\n",
      "Getting information for instrumental tag.\n",
      "      Preview: An instrumental is, \n",
      "Getting information for black metal tag.\n",
      "      Preview: Black metal is an ex\n",
      "Getting information for singer-songwriter tag.\n",
      "      Preview: Singer-songwriter is\n",
      "Getting information for dance tag.\n",
      "      Preview: Dance music is music\n",
      "Getting information for 80s tag.\n",
      "      Preview: The 1980s was the de\n",
      "Getting information for Progressive rock tag.\n",
      "      Preview: Progressive rock (of\n",
      "Getting information for death metal tag.\n",
      "      Preview: Death metal is a sub\n",
      "Getting information for heavy metal tag.\n",
      "      Preview: Heavy metal (often r\n",
      "Getting information for hardcore tag.\n",
      "      Preview: Hardcore can be used\n",
      "Getting information for british tag.\n",
      "      Preview: Bands and artists th\n",
      "Getting information for soul tag.\n",
      "      Preview: Soul music is a musi\n",
      "Getting information for chillout tag.\n",
      "      Preview: Chill out (sometimes\n",
      "Getting information for electronica tag.\n",
      "      Preview: Electronica includes\n",
      "Getting information for Classical tag.\n",
      "      Preview: Classical music is a\n",
      "Getting information for rap tag.\n",
      "      Preview: Rap is a vocal style\n",
      "Getting information for industrial tag.\n",
      "      Preview: Industrial music is \n",
      "Getting information for Soundtrack tag.\n",
      "      Preview: The term soundtrack \n",
      "Getting information for punk rock tag.\n",
      "      Preview: Punk rock (sometimes\n",
      "Getting information for blues tag.\n",
      "      Preview: Blues is a vocal and\n",
      "Getting information for thrash metal tag.\n",
      "      Preview: Thrash metal (someti\n",
      "Getting information for 90s tag.\n",
      "      Preview: The decade of the 19\n",
      "Getting information for acoustic tag.\n",
      "      Preview: The word \"acoustic\" \n",
      "Getting information for metalcore tag.\n",
      "      Preview: Metalcore came to fr\n",
      "Getting information for psychedelic tag.\n",
      "      Preview: Psychedelia in music\n",
      "Getting information for japanese tag.\n",
      "      Preview: The music of Japan i\n",
      "Getting information for post-rock tag.\n",
      "      Preview: Post-rock is a subge\n",
      "Getting information for Progressive metal tag.\n",
      "      Preview: Progressive metal is\n",
      "Getting information for german tag.\n",
      "      Preview: German Music refers \n",
      "Getting information for hip hop tag.\n",
      "      Preview: Hip hop is a musical\n",
      "Getting information for funk tag.\n",
      "      Preview: Funk is an American \n",
      "Getting information for new wave tag.\n",
      "      Preview: New Wave is today a \n",
      "Getting information for trance tag.\n",
      "      Preview: Trance is a style of\n"
     ]
    }
   ],
   "source": [
    "tag_info = []\n",
    "for tag in toptags:\n",
    "    params_get_tag_info = {\n",
    "    \"method\" : \"tag.getInfo\",\n",
    "    \"format\" : \"json\",\n",
    "    \"tag\" : tag,\n",
    "    \"api_key\" : api_key\n",
    "}\n",
    "    info = requests.get('http://ws.audioscrobbler.com/2.0/', params=params_get_tag_info)\n",
    "    info_summary = info.json()['tag']['wiki']['summary']\n",
    "    tag_info.append(info_summary)\n",
    "    print(f'Getting information for {tag} tag.')\n",
    "    print(f'      Preview: {info_summary[:20]}')\n",
    "    time.sleep(1)"
   ]
  },
  {
   "cell_type": "markdown",
   "metadata": {},
   "source": [
    "### Tops Tags Top Albums"
   ]
  },
  {
   "cell_type": "code",
   "execution_count": 107,
   "metadata": {},
   "outputs": [
    {
     "name": "stdout",
     "output_type": "stream",
     "text": [
      "Getting album information for rock tag.\n",
      "Getting album information for electronic tag.\n",
      "Getting album information for seen live tag.\n",
      "Getting album information for alternative tag.\n",
      "Getting album information for indie tag.\n",
      "Getting album information for pop tag.\n",
      "Getting album information for female vocalists tag.\n",
      "Getting album information for metal tag.\n",
      "Getting album information for alternative rock tag.\n",
      "Getting album information for jazz tag.\n",
      "Getting album information for classic rock tag.\n",
      "Getting album information for ambient tag.\n",
      "Getting album information for experimental tag.\n",
      "Getting album information for folk tag.\n",
      "Getting album information for punk tag.\n",
      "Getting album information for indie rock tag.\n",
      "Getting album information for Hip-Hop tag.\n",
      "Getting album information for hard rock tag.\n",
      "Getting album information for instrumental tag.\n",
      "Getting album information for black metal tag.\n",
      "Getting album information for singer-songwriter tag.\n",
      "Getting album information for dance tag.\n",
      "Getting album information for 80s tag.\n",
      "Getting album information for Progressive rock tag.\n",
      "Getting album information for death metal tag.\n",
      "Getting album information for heavy metal tag.\n",
      "Getting album information for hardcore tag.\n",
      "Getting album information for british tag.\n",
      "Getting album information for soul tag.\n",
      "Getting album information for chillout tag.\n",
      "Getting album information for electronica tag.\n",
      "Getting album information for Classical tag.\n",
      "Getting album information for rap tag.\n",
      "Getting album information for industrial tag.\n",
      "Getting album information for Soundtrack tag.\n",
      "Getting album information for punk rock tag.\n",
      "Getting album information for blues tag.\n",
      "Getting album information for thrash metal tag.\n",
      "Getting album information for 90s tag.\n",
      "Getting album information for acoustic tag.\n",
      "Getting album information for metalcore tag.\n",
      "Getting album information for psychedelic tag.\n",
      "Getting album information for japanese tag.\n",
      "Getting album information for post-rock tag.\n",
      "Getting album information for Progressive metal tag.\n",
      "Getting album information for german tag.\n",
      "Getting album information for hip hop tag.\n",
      "Getting album information for funk tag.\n",
      "Getting album information for new wave tag.\n",
      "Getting album information for trance tag.\n"
     ]
    }
   ],
   "source": [
    "top_albums = []\n",
    "\n",
    "for tag in toptags:\n",
    "    rank = 1\n",
    "    params_get_top_albums = {\n",
    "    \"method\" : \"tag.getTopAlbums\",\n",
    "    \"format\" : \"json\",\n",
    "    \"tag\" : tag,\n",
    "    \"api_key\" : api_key\n",
    "}\n",
    "    albums = requests.get('http://ws.audioscrobbler.com/2.0/', params=params_get_top_albums)\n",
    "    tag_albums = []\n",
    "    for row in albums.json()['albums']['album']:\n",
    "        album_info = {'name' : row['name'],\n",
    "                     'artist' : row['artist']['name'],\n",
    "                     'rank' : rank}\n",
    "        tag_albums.append(album_info)\n",
    "        rank +=1\n",
    "    top_albums.append(tag_albums)\n",
    "    print(f'Getting album information for {tag} tag.')\n",
    "    time.sleep(1)"
   ]
  },
  {
   "cell_type": "code",
   "execution_count": 108,
   "metadata": {},
   "outputs": [
    {
     "data": {
      "text/plain": [
       "50"
      ]
     },
     "execution_count": 108,
     "metadata": {},
     "output_type": "execute_result"
    }
   ],
   "source": [
    "len(top_albums)"
   ]
  },
  {
   "cell_type": "markdown",
   "metadata": {},
   "source": [
    "### Top Tags Top Artists"
   ]
  },
  {
   "cell_type": "code",
   "execution_count": 110,
   "metadata": {},
   "outputs": [],
   "source": [
    "params_get_top_artists = {\n",
    "    \"method\" : \"tag.getTopArtists\",\n",
    "    \"format\" : \"json\",\n",
    "    \"tag\" : tag,\n",
    "    \"api_key\" : api_key\n",
    "}"
   ]
  },
  {
   "cell_type": "code",
   "execution_count": 111,
   "metadata": {},
   "outputs": [],
   "source": []
  },
  {
   "cell_type": "code",
   "execution_count": 123,
   "metadata": {},
   "outputs": [
    {
     "ename": "SyntaxError",
     "evalue": "unexpected EOF while parsing (<ipython-input-123-c08b72a2a09f>, line 1)",
     "output_type": "error",
     "traceback": [
      "\u001b[1;36m  File \u001b[1;32m\"<ipython-input-123-c08b72a2a09f>\"\u001b[1;36m, line \u001b[1;32m1\u001b[0m\n\u001b[1;33m    for row in artists.json()['topartists']['artist']:\u001b[0m\n\u001b[1;37m                                                      ^\u001b[0m\n\u001b[1;31mSyntaxError\u001b[0m\u001b[1;31m:\u001b[0m unexpected EOF while parsing\n"
     ]
    }
   ],
   "source": []
  },
  {
   "cell_type": "code",
   "execution_count": 128,
   "metadata": {},
   "outputs": [
    {
     "name": "stdout",
     "output_type": "stream",
     "text": [
      "Getting artist information for rock tag.\n",
      "Getting artist information for electronic tag.\n",
      "Getting artist information for seen live tag.\n",
      "Getting artist information for alternative tag.\n",
      "Getting artist information for indie tag.\n",
      "Getting artist information for pop tag.\n",
      "Getting artist information for female vocalists tag.\n",
      "Getting artist information for metal tag.\n",
      "Getting artist information for alternative rock tag.\n",
      "Getting artist information for jazz tag.\n",
      "Getting artist information for classic rock tag.\n",
      "Getting artist information for ambient tag.\n",
      "Getting artist information for experimental tag.\n",
      "Getting artist information for folk tag.\n",
      "Getting artist information for punk tag.\n",
      "Getting artist information for indie rock tag.\n",
      "Getting artist information for Hip-Hop tag.\n",
      "Getting artist information for hard rock tag.\n",
      "Getting artist information for instrumental tag.\n",
      "Getting artist information for black metal tag.\n",
      "Getting artist information for singer-songwriter tag.\n",
      "Getting artist information for dance tag.\n",
      "Getting artist information for 80s tag.\n",
      "Getting artist information for Progressive rock tag.\n",
      "Getting artist information for death metal tag.\n",
      "Getting artist information for heavy metal tag.\n",
      "Getting artist information for hardcore tag.\n",
      "Getting artist information for british tag.\n",
      "Getting artist information for soul tag.\n",
      "Getting artist information for chillout tag.\n",
      "Getting artist information for electronica tag.\n",
      "Getting artist information for Classical tag.\n",
      "Getting artist information for rap tag.\n",
      "Getting artist information for industrial tag.\n",
      "Getting artist information for Soundtrack tag.\n",
      "Getting artist information for punk rock tag.\n",
      "Getting artist information for blues tag.\n",
      "Getting artist information for thrash metal tag.\n",
      "Getting artist information for 90s tag.\n",
      "Getting artist information for acoustic tag.\n",
      "Getting artist information for metalcore tag.\n",
      "Getting artist information for psychedelic tag.\n",
      "Getting artist information for japanese tag.\n",
      "Getting artist information for post-rock tag.\n",
      "Getting artist information for Progressive metal tag.\n",
      "Getting artist information for german tag.\n",
      "Getting artist information for hip hop tag.\n",
      "Getting artist information for funk tag.\n",
      "Getting artist information for new wave tag.\n",
      "Getting artist information for trance tag.\n"
     ]
    }
   ],
   "source": [
    "top_artists = []\n",
    "\n",
    "for tag in toptags:\n",
    "    rank = 1\n",
    "    params_get_top_artists = {\n",
    "    \"method\" : \"tag.getTopArtists\",\n",
    "    \"format\" : \"json\",\n",
    "    \"tag\" : tag,\n",
    "    \"api_key\" : api_key\n",
    "}\n",
    "    artists = requests.get('http://ws.audioscrobbler.com/2.0/', params=params_get_top_artists)\n",
    "    tag_artists = []\n",
    "    for row in artists.json()['topartists']['artist']:\n",
    "        tag_artists.append(\n",
    "        {\n",
    "            'artist' : row['name'],\n",
    "            'rank' : rank\n",
    "        })\n",
    "        rank += 1\n",
    "    top_artists.append(tag_artists)\n",
    "    print(f'Getting artist information for {tag} tag.')\n",
    "    time.sleep(1)"
   ]
  },
  {
   "cell_type": "code",
   "execution_count": 129,
   "metadata": {},
   "outputs": [
    {
     "data": {
      "text/plain": [
       "50"
      ]
     },
     "execution_count": 129,
     "metadata": {},
     "output_type": "execute_result"
    }
   ],
   "source": [
    "len(top_artists)"
   ]
  },
  {
   "cell_type": "markdown",
   "metadata": {},
   "source": [
    "### Wizard of the Lizards"
   ]
  },
  {
   "cell_type": "code",
   "execution_count": 131,
   "metadata": {},
   "outputs": [],
   "source": [
    "params_get_gizz = {\n",
    "    \"method\" : \"artist.search\",\n",
    "    \"format\" : \"json\",\n",
    "    \"artist\" : \"King Gizzard\",\n",
    "    \"api_key\" : api_key\n",
    "}\n",
    "gizz = requests.get('http://ws.audioscrobbler.com/2.0/', params=params_get_gizz)"
   ]
  },
  {
   "cell_type": "code",
   "execution_count": 136,
   "metadata": {},
   "outputs": [
    {
     "name": "stdout",
     "output_type": "stream",
     "text": [
      "King Gizzard & The Lizard Wizard\n",
      "King Gizzard & The Lizard Wizard with Mild High Club\n",
      "King Gizzard\n",
      "KING GIZZARD & THE LIZARD WIZARD & MILD HIGH CLUB\n",
      "King Gizzard & The Lizard Wizard, Mild High Club\n",
      "King Gizzard And The Lizard Wizard\n",
      "King Gizzard  The Lizard Wizard With Mild High Club\n",
      "King Gizzard And The Lizard Wizard With Mild High Club\n",
      "King Gizzard And The Lizard Wizard; King Gizzard & The Lizard Wizard\n",
      "King Gizzard  The Lizard Wizard, Mild High Club\n",
      "King Gizzard And The Lizard Wizard;King Gizzard & The Lizard Wizard\n",
      "King Gizzard & the Lizard Wizard / Mild High Club\n",
      "King Gizzard & the Lizard Wizard - Topic\n",
      "King Gizzard  The Lizard Wizard\n",
      "King Gizzard & The Wizard Lizard\n",
      "king gizzard and the shitpost wizard\n",
      "King Gizzard the Lizard Wizard\n",
      "King Gizzard & The Lizzard Wizard\n",
      "King Gizzard And The Lizard Wizard, Mild High Club\n",
      "King Gizzard & the Lizard Wizard Live From Webster Hall\n",
      "King Gizzard & The Lizard Wizard w/ Mild High Club\n",
      "King Gizzard And The Lizard Wizard w/ Mild High Club\n",
      "King Gizzard & The Lizard Wizard Live at AB\n",
      "King Gizzard & The Lizard Wizard; Mild High Club\n",
      "King Gizzard and the Wizard Lizard\n",
      "King Gizzard & Lizard Wizard\n",
      "King Gizzard & The Lizard Wizard “The Lord Of Lightning” 04/17/17\n",
      "King Gizzard And The Lizard Wizard, King Gizzard & The Lizard Wizard\n",
      "King Gizzard & The Lizard Wizard/Mild High Club\n",
      "King Gizzard And The Lizard Wizard King Gizzard & The Lizard Wizard\n"
     ]
    }
   ],
   "source": [
    "for row in gizz.json()['results']['artistmatches']['artist']:\n",
    "    print(row['name'])"
   ]
  },
  {
   "cell_type": "code",
   "execution_count": 139,
   "metadata": {},
   "outputs": [
    {
     "data": {
      "text/plain": [
       "{'artist': {'name': 'King Gizzard & The Lizard Wizard',\n",
       "  'mbid': 'f58384a4-2ad2-4f24-89c5-c7b74ae1cce7',\n",
       "  'url': 'https://www.last.fm/music/King+Gizzard+&+The+Lizard+Wizard',\n",
       "  'image': [{'#text': 'https://lastfm.freetls.fastly.net/i/u/34s/2a96cbd8b46e442fc41c2b86b821562f.png',\n",
       "    'size': 'small'},\n",
       "   {'#text': 'https://lastfm.freetls.fastly.net/i/u/64s/2a96cbd8b46e442fc41c2b86b821562f.png',\n",
       "    'size': 'medium'},\n",
       "   {'#text': 'https://lastfm.freetls.fastly.net/i/u/174s/2a96cbd8b46e442fc41c2b86b821562f.png',\n",
       "    'size': 'large'},\n",
       "   {'#text': 'https://lastfm.freetls.fastly.net/i/u/300x300/2a96cbd8b46e442fc41c2b86b821562f.png',\n",
       "    'size': 'extralarge'},\n",
       "   {'#text': 'https://lastfm.freetls.fastly.net/i/u/300x300/2a96cbd8b46e442fc41c2b86b821562f.png',\n",
       "    'size': 'mega'},\n",
       "   {'#text': 'https://lastfm.freetls.fastly.net/i/u/300x300/2a96cbd8b46e442fc41c2b86b821562f.png',\n",
       "    'size': ''}],\n",
       "  'streamable': '0',\n",
       "  'ontour': '1',\n",
       "  'stats': {'listeners': '295998', 'playcount': '19978406'},\n",
       "  'similar': {'artist': [{'name': 'The Murlocs',\n",
       "     'url': 'https://www.last.fm/music/The+Murlocs',\n",
       "     'image': [{'#text': 'https://lastfm.freetls.fastly.net/i/u/34s/2a96cbd8b46e442fc41c2b86b821562f.png',\n",
       "       'size': 'small'},\n",
       "      {'#text': 'https://lastfm.freetls.fastly.net/i/u/64s/2a96cbd8b46e442fc41c2b86b821562f.png',\n",
       "       'size': 'medium'},\n",
       "      {'#text': 'https://lastfm.freetls.fastly.net/i/u/174s/2a96cbd8b46e442fc41c2b86b821562f.png',\n",
       "       'size': 'large'},\n",
       "      {'#text': 'https://lastfm.freetls.fastly.net/i/u/300x300/2a96cbd8b46e442fc41c2b86b821562f.png',\n",
       "       'size': 'extralarge'},\n",
       "      {'#text': 'https://lastfm.freetls.fastly.net/i/u/300x300/2a96cbd8b46e442fc41c2b86b821562f.png',\n",
       "       'size': 'mega'},\n",
       "      {'#text': 'https://lastfm.freetls.fastly.net/i/u/300x300/2a96cbd8b46e442fc41c2b86b821562f.png',\n",
       "       'size': ''}]},\n",
       "    {'name': 'Thee Oh Sees',\n",
       "     'url': 'https://www.last.fm/music/Thee+Oh+Sees',\n",
       "     'image': [{'#text': 'https://lastfm.freetls.fastly.net/i/u/34s/2a96cbd8b46e442fc41c2b86b821562f.png',\n",
       "       'size': 'small'},\n",
       "      {'#text': 'https://lastfm.freetls.fastly.net/i/u/64s/2a96cbd8b46e442fc41c2b86b821562f.png',\n",
       "       'size': 'medium'},\n",
       "      {'#text': 'https://lastfm.freetls.fastly.net/i/u/174s/2a96cbd8b46e442fc41c2b86b821562f.png',\n",
       "       'size': 'large'},\n",
       "      {'#text': 'https://lastfm.freetls.fastly.net/i/u/300x300/2a96cbd8b46e442fc41c2b86b821562f.png',\n",
       "       'size': 'extralarge'},\n",
       "      {'#text': 'https://lastfm.freetls.fastly.net/i/u/300x300/2a96cbd8b46e442fc41c2b86b821562f.png',\n",
       "       'size': 'mega'},\n",
       "      {'#text': 'https://lastfm.freetls.fastly.net/i/u/300x300/2a96cbd8b46e442fc41c2b86b821562f.png',\n",
       "       'size': ''}]},\n",
       "    {'name': 'Pipe-Eye',\n",
       "     'url': 'https://www.last.fm/music/Pipe-Eye',\n",
       "     'image': [{'#text': 'https://lastfm.freetls.fastly.net/i/u/34s/2a96cbd8b46e442fc41c2b86b821562f.png',\n",
       "       'size': 'small'},\n",
       "      {'#text': 'https://lastfm.freetls.fastly.net/i/u/64s/2a96cbd8b46e442fc41c2b86b821562f.png',\n",
       "       'size': 'medium'},\n",
       "      {'#text': 'https://lastfm.freetls.fastly.net/i/u/174s/2a96cbd8b46e442fc41c2b86b821562f.png',\n",
       "       'size': 'large'},\n",
       "      {'#text': 'https://lastfm.freetls.fastly.net/i/u/300x300/2a96cbd8b46e442fc41c2b86b821562f.png',\n",
       "       'size': 'extralarge'},\n",
       "      {'#text': 'https://lastfm.freetls.fastly.net/i/u/300x300/2a96cbd8b46e442fc41c2b86b821562f.png',\n",
       "       'size': 'mega'},\n",
       "      {'#text': 'https://lastfm.freetls.fastly.net/i/u/300x300/2a96cbd8b46e442fc41c2b86b821562f.png',\n",
       "       'size': ''}]},\n",
       "    {'name': 'King Gizzard & The Lizard Wizard with Mild High Club',\n",
       "     'url': 'https://www.last.fm/music/King+Gizzard+&+The+Lizard+Wizard+with+Mild+High+Club',\n",
       "     'image': [{'#text': 'https://lastfm.freetls.fastly.net/i/u/34s/2a96cbd8b46e442fc41c2b86b821562f.png',\n",
       "       'size': 'small'},\n",
       "      {'#text': 'https://lastfm.freetls.fastly.net/i/u/64s/2a96cbd8b46e442fc41c2b86b821562f.png',\n",
       "       'size': 'medium'},\n",
       "      {'#text': 'https://lastfm.freetls.fastly.net/i/u/174s/2a96cbd8b46e442fc41c2b86b821562f.png',\n",
       "       'size': 'large'},\n",
       "      {'#text': 'https://lastfm.freetls.fastly.net/i/u/300x300/2a96cbd8b46e442fc41c2b86b821562f.png',\n",
       "       'size': 'extralarge'},\n",
       "      {'#text': 'https://lastfm.freetls.fastly.net/i/u/300x300/2a96cbd8b46e442fc41c2b86b821562f.png',\n",
       "       'size': 'mega'},\n",
       "      {'#text': 'https://lastfm.freetls.fastly.net/i/u/300x300/2a96cbd8b46e442fc41c2b86b821562f.png',\n",
       "       'size': ''}]},\n",
       "    {'name': 'Psychedelic Porn Crumpets',\n",
       "     'url': 'https://www.last.fm/music/Psychedelic+Porn+Crumpets',\n",
       "     'image': [{'#text': 'https://lastfm.freetls.fastly.net/i/u/34s/2a96cbd8b46e442fc41c2b86b821562f.png',\n",
       "       'size': 'small'},\n",
       "      {'#text': 'https://lastfm.freetls.fastly.net/i/u/64s/2a96cbd8b46e442fc41c2b86b821562f.png',\n",
       "       'size': 'medium'},\n",
       "      {'#text': 'https://lastfm.freetls.fastly.net/i/u/174s/2a96cbd8b46e442fc41c2b86b821562f.png',\n",
       "       'size': 'large'},\n",
       "      {'#text': 'https://lastfm.freetls.fastly.net/i/u/300x300/2a96cbd8b46e442fc41c2b86b821562f.png',\n",
       "       'size': 'extralarge'},\n",
       "      {'#text': 'https://lastfm.freetls.fastly.net/i/u/300x300/2a96cbd8b46e442fc41c2b86b821562f.png',\n",
       "       'size': 'mega'},\n",
       "      {'#text': 'https://lastfm.freetls.fastly.net/i/u/300x300/2a96cbd8b46e442fc41c2b86b821562f.png',\n",
       "       'size': ''}]}]},\n",
       "  'tags': {'tag': [{'name': 'Psychedelic Rock',\n",
       "     'url': 'https://www.last.fm/tag/Psychedelic+Rock'},\n",
       "    {'name': 'Garage Rock', 'url': 'https://www.last.fm/tag/Garage+Rock'},\n",
       "    {'name': 'seen live', 'url': 'https://www.last.fm/tag/seen+live'},\n",
       "    {'name': 'psychedelic', 'url': 'https://www.last.fm/tag/psychedelic'},\n",
       "    {'name': 'australian', 'url': 'https://www.last.fm/tag/australian'}]},\n",
       "  'bio': {'links': {'link': {'#text': '',\n",
       "     'rel': 'original',\n",
       "     'href': 'https://last.fm/music/King+Gizzard+&+The+Lizard+Wizard/+wiki'}},\n",
       "   'published': '03 Nov 2011, 00:00',\n",
       "   'summary': 'King Gizzard & the Lizard Wizard are an Australian psychedelic rock band that formed in 2010 in Melbourne, Victoria. The band consists of Stu Mackenzie (vocals, guitar, bass, keyboards, flute), Ambrose Kenny-Smith (vocals, harmonica, keyboards), Cook Craig (guitar, bass, vocals), Joey Walker (guitar, bass, keyboards, vocals), Lucas Skinner (bass, keyboards), Michael Cavanagh (drums, percussion), and Eric Moore (drums, percussion, management). They are known for their energetic live shows and prolific recording output <a href=\"https://www.last.fm/music/King+Gizzard+&+The+Lizard+Wizard\">Read more on Last.fm</a>',\n",
       "   'content': 'King Gizzard & the Lizard Wizard are an Australian psychedelic rock band that formed in 2010 in Melbourne, Victoria. The band consists of Stu Mackenzie (vocals, guitar, bass, keyboards, flute), Ambrose Kenny-Smith (vocals, harmonica, keyboards), Cook Craig (guitar, bass, vocals), Joey Walker (guitar, bass, keyboards, vocals), Lucas Skinner (bass, keyboards), Michael Cavanagh (drums, percussion), and Eric Moore (drums, percussion, management). They are known for their energetic live shows and prolific recording output, having released two EPs and 15 studio albums since their formation.\\n\\nTheir EP and first two albums, Willoughby\\'s Beach (2011), 12 Bar Bruise (2012) and Eyes Like the Sky (2013), primarily blended surf music and garage rock, and were released on the band\\'s independent record label, Flightless, founded by Moore in 2012. Their third to eighth albums—Float Along – Fill Your Lungs (2013), Oddments, I\\'m in Your Mind Fuzz (2014), Quarters!, Paper Mâché Dream Balloon[/akbum] (2015) and Nonagon Infinity (2016)—expanded their sound, including elements of film music, psychedelic rock, progressive rock, folk, jazz, soul and heavy metal.\\n\\nIn 2017, the band fulfilled a promise to release five studio albums within the year: Flying Microtonal Banana in February; Murder of the Universe in June; Sketches of Brunswick East, a collaboration with Mild High Club, in August; Polygondwanaland, which was released into the public domain, in November; and Gumboot Soup in December. The band released its fourteenth album, Fishing for Fishies, on 26 April 2019, followed by a fifteenth album, Infest the Rats\\' Nest, released on 16 August that year.\\n\\nOn the 19th of April they released their first feature-length film, concert movie \"Chunky Shrapnel\". Named after a lyric from the band’s 2017 song Murder Of The Universe, The film combines concert footage from the band’s 2019 European tour with documentary style-filmmaking of King Gizzard behind the scenes. While Chunky Shrapnel does also document the band offstage, the film’s director, Josh Angus Stewart, said that it prioritizes music over personalities. \\n\\nChunky Shrapnel was originally set to premiere at Melbourne’s Astor Theatre, before the Australian government closed cinemas nationwide to stem the spread of the coronavirus. The film was eventually released and finally available for 24 hours only on vimeo. \\n\\nThe band members all grew up and went to school in the Deniliquin, Melbourne and Geelong areas. The band started off as a group of friends jamming together, before a mutual friend asked them to play at a show. The band\\'s name was created \"last minute\". Mackenzie wanted to name the band \"Gizzard Gizzard\" while another band member wanted Jim Morrison\\'s nickname \"Lizard King\". They eventually compromised with King Gizzard and the Lizard Wizard. The artist Jason Galea has created all of the band\\'s album art, and a majority of their music videos. <a href=\"https://www.last.fm/music/King+Gizzard+&+The+Lizard+Wizard\">Read more on Last.fm</a>. User-contributed text is available under the Creative Commons By-SA License; additional terms may apply.'}}}"
      ]
     },
     "execution_count": 139,
     "metadata": {},
     "output_type": "execute_result"
    }
   ],
   "source": [
    "params_get_info = {\n",
    "    \"method\" : \"artist.getInfo\",\n",
    "    \"format\" : \"json\",\n",
    "    \"artist\" : \"King Gizzard & The Lizard Wizard\",\n",
    "    \"api_key\" : api_key\n",
    "}\n",
    "gizz_info = requests.get('http://ws.audioscrobbler.com/2.0/', params=params_get_info)\n"
   ]
  },
  {
   "cell_type": "code",
   "execution_count": 147,
   "metadata": {},
   "outputs": [
    {
     "data": {
      "text/plain": [
       "'King Gizzard & the Lizard Wizard are an Australian psychedelic rock band that formed in 2010 in Melbourne, Victoria. The band consists of Stu Mackenzie (vocals, guitar, bass, keyboards, flute), Ambrose Kenny-Smith (vocals, harmonica, keyboards), Cook Craig (guitar, bass, vocals), Joey Walker (guitar, bass, keyboards, vocals), Lucas Skinner (bass, keyboards), Michael Cavanagh (drums, percussion), and Eric Moore (drums, percussion, management). They are known for their energetic live shows and prolific recording output <a href=\"https://www.last.fm/music/King+Gizzard+&+The+Lizard+Wizard\">Read more on Last.fm</a>'"
      ]
     },
     "execution_count": 147,
     "metadata": {},
     "output_type": "execute_result"
    }
   ],
   "source": [
    "gizz_info.json()['artist']['bio']['summary']"
   ]
  },
  {
   "cell_type": "markdown",
   "metadata": {},
   "source": [
    "## Find Song"
   ]
  },
  {
   "cell_type": "code",
   "execution_count": 211,
   "metadata": {},
   "outputs": [],
   "source": [
    "def find_song(artist, track):\n",
    "    results = []\n",
    "    artists_list = []\n",
    "    params_get_artists = {\n",
    "        \"method\" : \"artist.search\",\n",
    "        \"format\" : \"json\",\n",
    "        \"limit\" : 100,\n",
    "        \"artist\" : artist,\n",
    "        \"api_key\" : api_key\n",
    "    }\n",
    "    artists = requests.get('http://ws.audioscrobbler.com/2.0/', params=params_get_artists)\n",
    "    for artist in artists.json()['results']['artistmatches']['artist']:\n",
    "            artists_list.append(artist['name'])\n",
    "\n",
    "    tracks_list = []\n",
    "    params_get_tracks = {\n",
    "        \"method\" : \"track.search\",\n",
    "        \"format\" : \"json\",\n",
    "        \"limit\" : 100,\n",
    "        \"track\" : track,\n",
    "        \"api_key\" : api_key\n",
    "    }\n",
    "    tracks = requests.get('http://ws.audioscrobbler.com/2.0/', params=params_get_tracks)\n",
    "    for track in tracks.json()['results']['trackmatches']['track']:\n",
    "        if track['artist'] in artists_list:\n",
    "            return_track = track['name']\n",
    "            return_artist = track['artist']\n",
    "            results.append((return_artist, return_track))\n",
    "    if len(results) > 0:\n",
    "        return results\n",
    "    return('Could not find track. Please search again.')"
   ]
  },
  {
   "cell_type": "code",
   "execution_count": 216,
   "metadata": {},
   "outputs": [
    {
     "data": {
      "text/plain": [
       "[('King Gizzard & The Lizard Wizard', 'Honey')]"
      ]
     },
     "execution_count": 216,
     "metadata": {},
     "output_type": "execute_result"
    }
   ],
   "source": [
    "find_song(artist = 'King Gizz', track = \"honey\")"
   ]
  },
  {
   "cell_type": "code",
   "execution_count": 213,
   "metadata": {},
   "outputs": [
    {
     "data": {
      "text/plain": [
       "[('Richie Havens', 'All Along the Watchtower')]"
      ]
     },
     "execution_count": 213,
     "metadata": {},
     "output_type": "execute_result"
    }
   ],
   "source": [
    "find_song(artist = 'have', track = \"watchtower\")"
   ]
  },
  {
   "cell_type": "code",
   "execution_count": null,
   "metadata": {},
   "outputs": [],
   "source": []
  }
 ],
 "metadata": {
  "kernelspec": {
   "display_name": "Python 3",
   "language": "python",
   "name": "python3"
  },
  "language_info": {
   "codemirror_mode": {
    "name": "ipython",
    "version": 3
   },
   "file_extension": ".py",
   "mimetype": "text/x-python",
   "name": "python",
   "nbconvert_exporter": "python",
   "pygments_lexer": "ipython3",
   "version": "3.7.6"
  }
 },
 "nbformat": 4,
 "nbformat_minor": 4
}
