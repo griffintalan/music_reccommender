{
 "cells": [
  {
   "cell_type": "code",
   "execution_count": 1,
   "metadata": {},
   "outputs": [],
   "source": [
    "import numpy as np\n",
    "import pandas as pd\n",
    "import requests\n",
    "import time"
   ]
  },
  {
   "cell_type": "code",
   "execution_count": 2,
   "metadata": {},
   "outputs": [],
   "source": [
    "api_key = \"6bb7f55c691d1bdff841fdc67934b3b8\""
   ]
  },
  {
   "cell_type": "code",
   "execution_count": 136,
   "metadata": {},
   "outputs": [
    {
     "name": "stdout",
     "output_type": "stream",
     "text": [
      "King Gizzard & The Lizard Wizard\n",
      "King Gizzard & The Lizard Wizard with Mild High Club\n",
      "King Gizzard\n",
      "KING GIZZARD & THE LIZARD WIZARD & MILD HIGH CLUB\n",
      "King Gizzard & The Lizard Wizard, Mild High Club\n",
      "King Gizzard And The Lizard Wizard\n",
      "King Gizzard  The Lizard Wizard With Mild High Club\n",
      "King Gizzard And The Lizard Wizard With Mild High Club\n",
      "King Gizzard And The Lizard Wizard; King Gizzard & The Lizard Wizard\n",
      "King Gizzard  The Lizard Wizard, Mild High Club\n",
      "King Gizzard And The Lizard Wizard;King Gizzard & The Lizard Wizard\n",
      "King Gizzard & the Lizard Wizard / Mild High Club\n",
      "King Gizzard & the Lizard Wizard - Topic\n",
      "King Gizzard  The Lizard Wizard\n",
      "King Gizzard & The Wizard Lizard\n",
      "king gizzard and the shitpost wizard\n",
      "King Gizzard the Lizard Wizard\n",
      "King Gizzard & The Lizzard Wizard\n",
      "King Gizzard And The Lizard Wizard, Mild High Club\n",
      "King Gizzard & the Lizard Wizard Live From Webster Hall\n",
      "King Gizzard & The Lizard Wizard w/ Mild High Club\n",
      "King Gizzard And The Lizard Wizard w/ Mild High Club\n",
      "King Gizzard & The Lizard Wizard Live at AB\n",
      "King Gizzard & The Lizard Wizard; Mild High Club\n",
      "King Gizzard and the Wizard Lizard\n",
      "King Gizzard & Lizard Wizard\n",
      "King Gizzard & The Lizard Wizard “The Lord Of Lightning” 04/17/17\n",
      "King Gizzard And The Lizard Wizard, King Gizzard & The Lizard Wizard\n",
      "King Gizzard & The Lizard Wizard/Mild High Club\n",
      "King Gizzard And The Lizard Wizard King Gizzard & The Lizard Wizard\n"
     ]
    }
   ],
   "source": [
    "for row in gizz.json()['results']['artistmatches']['artist']:\n",
    "    print(row['name'])"
   ]
  },
  {
   "cell_type": "code",
   "execution_count": 139,
   "metadata": {},
   "outputs": [
    {
     "data": {
      "text/plain": [
       "{'artist': {'name': 'King Gizzard & The Lizard Wizard',\n",
       "  'mbid': 'f58384a4-2ad2-4f24-89c5-c7b74ae1cce7',\n",
       "  'url': 'https://www.last.fm/music/King+Gizzard+&+The+Lizard+Wizard',\n",
       "  'image': [{'#text': 'https://lastfm.freetls.fastly.net/i/u/34s/2a96cbd8b46e442fc41c2b86b821562f.png',\n",
       "    'size': 'small'},\n",
       "   {'#text': 'https://lastfm.freetls.fastly.net/i/u/64s/2a96cbd8b46e442fc41c2b86b821562f.png',\n",
       "    'size': 'medium'},\n",
       "   {'#text': 'https://lastfm.freetls.fastly.net/i/u/174s/2a96cbd8b46e442fc41c2b86b821562f.png',\n",
       "    'size': 'large'},\n",
       "   {'#text': 'https://lastfm.freetls.fastly.net/i/u/300x300/2a96cbd8b46e442fc41c2b86b821562f.png',\n",
       "    'size': 'extralarge'},\n",
       "   {'#text': 'https://lastfm.freetls.fastly.net/i/u/300x300/2a96cbd8b46e442fc41c2b86b821562f.png',\n",
       "    'size': 'mega'},\n",
       "   {'#text': 'https://lastfm.freetls.fastly.net/i/u/300x300/2a96cbd8b46e442fc41c2b86b821562f.png',\n",
       "    'size': ''}],\n",
       "  'streamable': '0',\n",
       "  'ontour': '1',\n",
       "  'stats': {'listeners': '295998', 'playcount': '19978406'},\n",
       "  'similar': {'artist': [{'name': 'The Murlocs',\n",
       "     'url': 'https://www.last.fm/music/The+Murlocs',\n",
       "     'image': [{'#text': 'https://lastfm.freetls.fastly.net/i/u/34s/2a96cbd8b46e442fc41c2b86b821562f.png',\n",
       "       'size': 'small'},\n",
       "      {'#text': 'https://lastfm.freetls.fastly.net/i/u/64s/2a96cbd8b46e442fc41c2b86b821562f.png',\n",
       "       'size': 'medium'},\n",
       "      {'#text': 'https://lastfm.freetls.fastly.net/i/u/174s/2a96cbd8b46e442fc41c2b86b821562f.png',\n",
       "       'size': 'large'},\n",
       "      {'#text': 'https://lastfm.freetls.fastly.net/i/u/300x300/2a96cbd8b46e442fc41c2b86b821562f.png',\n",
       "       'size': 'extralarge'},\n",
       "      {'#text': 'https://lastfm.freetls.fastly.net/i/u/300x300/2a96cbd8b46e442fc41c2b86b821562f.png',\n",
       "       'size': 'mega'},\n",
       "      {'#text': 'https://lastfm.freetls.fastly.net/i/u/300x300/2a96cbd8b46e442fc41c2b86b821562f.png',\n",
       "       'size': ''}]},\n",
       "    {'name': 'Thee Oh Sees',\n",
       "     'url': 'https://www.last.fm/music/Thee+Oh+Sees',\n",
       "     'image': [{'#text': 'https://lastfm.freetls.fastly.net/i/u/34s/2a96cbd8b46e442fc41c2b86b821562f.png',\n",
       "       'size': 'small'},\n",
       "      {'#text': 'https://lastfm.freetls.fastly.net/i/u/64s/2a96cbd8b46e442fc41c2b86b821562f.png',\n",
       "       'size': 'medium'},\n",
       "      {'#text': 'https://lastfm.freetls.fastly.net/i/u/174s/2a96cbd8b46e442fc41c2b86b821562f.png',\n",
       "       'size': 'large'},\n",
       "      {'#text': 'https://lastfm.freetls.fastly.net/i/u/300x300/2a96cbd8b46e442fc41c2b86b821562f.png',\n",
       "       'size': 'extralarge'},\n",
       "      {'#text': 'https://lastfm.freetls.fastly.net/i/u/300x300/2a96cbd8b46e442fc41c2b86b821562f.png',\n",
       "       'size': 'mega'},\n",
       "      {'#text': 'https://lastfm.freetls.fastly.net/i/u/300x300/2a96cbd8b46e442fc41c2b86b821562f.png',\n",
       "       'size': ''}]},\n",
       "    {'name': 'Pipe-Eye',\n",
       "     'url': 'https://www.last.fm/music/Pipe-Eye',\n",
       "     'image': [{'#text': 'https://lastfm.freetls.fastly.net/i/u/34s/2a96cbd8b46e442fc41c2b86b821562f.png',\n",
       "       'size': 'small'},\n",
       "      {'#text': 'https://lastfm.freetls.fastly.net/i/u/64s/2a96cbd8b46e442fc41c2b86b821562f.png',\n",
       "       'size': 'medium'},\n",
       "      {'#text': 'https://lastfm.freetls.fastly.net/i/u/174s/2a96cbd8b46e442fc41c2b86b821562f.png',\n",
       "       'size': 'large'},\n",
       "      {'#text': 'https://lastfm.freetls.fastly.net/i/u/300x300/2a96cbd8b46e442fc41c2b86b821562f.png',\n",
       "       'size': 'extralarge'},\n",
       "      {'#text': 'https://lastfm.freetls.fastly.net/i/u/300x300/2a96cbd8b46e442fc41c2b86b821562f.png',\n",
       "       'size': 'mega'},\n",
       "      {'#text': 'https://lastfm.freetls.fastly.net/i/u/300x300/2a96cbd8b46e442fc41c2b86b821562f.png',\n",
       "       'size': ''}]},\n",
       "    {'name': 'King Gizzard & The Lizard Wizard with Mild High Club',\n",
       "     'url': 'https://www.last.fm/music/King+Gizzard+&+The+Lizard+Wizard+with+Mild+High+Club',\n",
       "     'image': [{'#text': 'https://lastfm.freetls.fastly.net/i/u/34s/2a96cbd8b46e442fc41c2b86b821562f.png',\n",
       "       'size': 'small'},\n",
       "      {'#text': 'https://lastfm.freetls.fastly.net/i/u/64s/2a96cbd8b46e442fc41c2b86b821562f.png',\n",
       "       'size': 'medium'},\n",
       "      {'#text': 'https://lastfm.freetls.fastly.net/i/u/174s/2a96cbd8b46e442fc41c2b86b821562f.png',\n",
       "       'size': 'large'},\n",
       "      {'#text': 'https://lastfm.freetls.fastly.net/i/u/300x300/2a96cbd8b46e442fc41c2b86b821562f.png',\n",
       "       'size': 'extralarge'},\n",
       "      {'#text': 'https://lastfm.freetls.fastly.net/i/u/300x300/2a96cbd8b46e442fc41c2b86b821562f.png',\n",
       "       'size': 'mega'},\n",
       "      {'#text': 'https://lastfm.freetls.fastly.net/i/u/300x300/2a96cbd8b46e442fc41c2b86b821562f.png',\n",
       "       'size': ''}]},\n",
       "    {'name': 'Psychedelic Porn Crumpets',\n",
       "     'url': 'https://www.last.fm/music/Psychedelic+Porn+Crumpets',\n",
       "     'image': [{'#text': 'https://lastfm.freetls.fastly.net/i/u/34s/2a96cbd8b46e442fc41c2b86b821562f.png',\n",
       "       'size': 'small'},\n",
       "      {'#text': 'https://lastfm.freetls.fastly.net/i/u/64s/2a96cbd8b46e442fc41c2b86b821562f.png',\n",
       "       'size': 'medium'},\n",
       "      {'#text': 'https://lastfm.freetls.fastly.net/i/u/174s/2a96cbd8b46e442fc41c2b86b821562f.png',\n",
       "       'size': 'large'},\n",
       "      {'#text': 'https://lastfm.freetls.fastly.net/i/u/300x300/2a96cbd8b46e442fc41c2b86b821562f.png',\n",
       "       'size': 'extralarge'},\n",
       "      {'#text': 'https://lastfm.freetls.fastly.net/i/u/300x300/2a96cbd8b46e442fc41c2b86b821562f.png',\n",
       "       'size': 'mega'},\n",
       "      {'#text': 'https://lastfm.freetls.fastly.net/i/u/300x300/2a96cbd8b46e442fc41c2b86b821562f.png',\n",
       "       'size': ''}]}]},\n",
       "  'tags': {'tag': [{'name': 'Psychedelic Rock',\n",
       "     'url': 'https://www.last.fm/tag/Psychedelic+Rock'},\n",
       "    {'name': 'Garage Rock', 'url': 'https://www.last.fm/tag/Garage+Rock'},\n",
       "    {'name': 'seen live', 'url': 'https://www.last.fm/tag/seen+live'},\n",
       "    {'name': 'psychedelic', 'url': 'https://www.last.fm/tag/psychedelic'},\n",
       "    {'name': 'australian', 'url': 'https://www.last.fm/tag/australian'}]},\n",
       "  'bio': {'links': {'link': {'#text': '',\n",
       "     'rel': 'original',\n",
       "     'href': 'https://last.fm/music/King+Gizzard+&+The+Lizard+Wizard/+wiki'}},\n",
       "   'published': '03 Nov 2011, 00:00',\n",
       "   'summary': 'King Gizzard & the Lizard Wizard are an Australian psychedelic rock band that formed in 2010 in Melbourne, Victoria. The band consists of Stu Mackenzie (vocals, guitar, bass, keyboards, flute), Ambrose Kenny-Smith (vocals, harmonica, keyboards), Cook Craig (guitar, bass, vocals), Joey Walker (guitar, bass, keyboards, vocals), Lucas Skinner (bass, keyboards), Michael Cavanagh (drums, percussion), and Eric Moore (drums, percussion, management). They are known for their energetic live shows and prolific recording output <a href=\"https://www.last.fm/music/King+Gizzard+&+The+Lizard+Wizard\">Read more on Last.fm</a>',\n",
       "   'content': 'King Gizzard & the Lizard Wizard are an Australian psychedelic rock band that formed in 2010 in Melbourne, Victoria. The band consists of Stu Mackenzie (vocals, guitar, bass, keyboards, flute), Ambrose Kenny-Smith (vocals, harmonica, keyboards), Cook Craig (guitar, bass, vocals), Joey Walker (guitar, bass, keyboards, vocals), Lucas Skinner (bass, keyboards), Michael Cavanagh (drums, percussion), and Eric Moore (drums, percussion, management). They are known for their energetic live shows and prolific recording output, having released two EPs and 15 studio albums since their formation.\\n\\nTheir EP and first two albums, Willoughby\\'s Beach (2011), 12 Bar Bruise (2012) and Eyes Like the Sky (2013), primarily blended surf music and garage rock, and were released on the band\\'s independent record label, Flightless, founded by Moore in 2012. Their third to eighth albums—Float Along – Fill Your Lungs (2013), Oddments, I\\'m in Your Mind Fuzz (2014), Quarters!, Paper Mâché Dream Balloon[/akbum] (2015) and Nonagon Infinity (2016)—expanded their sound, including elements of film music, psychedelic rock, progressive rock, folk, jazz, soul and heavy metal.\\n\\nIn 2017, the band fulfilled a promise to release five studio albums within the year: Flying Microtonal Banana in February; Murder of the Universe in June; Sketches of Brunswick East, a collaboration with Mild High Club, in August; Polygondwanaland, which was released into the public domain, in November; and Gumboot Soup in December. The band released its fourteenth album, Fishing for Fishies, on 26 April 2019, followed by a fifteenth album, Infest the Rats\\' Nest, released on 16 August that year.\\n\\nOn the 19th of April they released their first feature-length film, concert movie \"Chunky Shrapnel\". Named after a lyric from the band’s 2017 song Murder Of The Universe, The film combines concert footage from the band’s 2019 European tour with documentary style-filmmaking of King Gizzard behind the scenes. While Chunky Shrapnel does also document the band offstage, the film’s director, Josh Angus Stewart, said that it prioritizes music over personalities. \\n\\nChunky Shrapnel was originally set to premiere at Melbourne’s Astor Theatre, before the Australian government closed cinemas nationwide to stem the spread of the coronavirus. The film was eventually released and finally available for 24 hours only on vimeo. \\n\\nThe band members all grew up and went to school in the Deniliquin, Melbourne and Geelong areas. The band started off as a group of friends jamming together, before a mutual friend asked them to play at a show. The band\\'s name was created \"last minute\". Mackenzie wanted to name the band \"Gizzard Gizzard\" while another band member wanted Jim Morrison\\'s nickname \"Lizard King\". They eventually compromised with King Gizzard and the Lizard Wizard. The artist Jason Galea has created all of the band\\'s album art, and a majority of their music videos. <a href=\"https://www.last.fm/music/King+Gizzard+&+The+Lizard+Wizard\">Read more on Last.fm</a>. User-contributed text is available under the Creative Commons By-SA License; additional terms may apply.'}}}"
      ]
     },
     "execution_count": 139,
     "metadata": {},
     "output_type": "execute_result"
    }
   ],
   "source": [
    "params_get_info = {\n",
    "    \"method\" : \"artist.getInfo\",\n",
    "    \"format\" : \"json\",\n",
    "    \"artist\" : \"King Gizzard & The Lizard Wizard\",\n",
    "    \"api_key\" : api_key\n",
    "}\n",
    "gizz_info = requests.get('http://ws.audioscrobbler.com/2.0/', params=params_get_info)\n"
   ]
  },
  {
   "cell_type": "code",
   "execution_count": 147,
   "metadata": {},
   "outputs": [
    {
     "data": {
      "text/plain": [
       "'King Gizzard & the Lizard Wizard are an Australian psychedelic rock band that formed in 2010 in Melbourne, Victoria. The band consists of Stu Mackenzie (vocals, guitar, bass, keyboards, flute), Ambrose Kenny-Smith (vocals, harmonica, keyboards), Cook Craig (guitar, bass, vocals), Joey Walker (guitar, bass, keyboards, vocals), Lucas Skinner (bass, keyboards), Michael Cavanagh (drums, percussion), and Eric Moore (drums, percussion, management). They are known for their energetic live shows and prolific recording output <a href=\"https://www.last.fm/music/King+Gizzard+&+The+Lizard+Wizard\">Read more on Last.fm</a>'"
      ]
     },
     "execution_count": 147,
     "metadata": {},
     "output_type": "execute_result"
    }
   ],
   "source": [
    "gizz_info.json()['artist']['bio']['summary']"
   ]
  },
  {
   "cell_type": "markdown",
   "metadata": {},
   "source": [
    "## Find Song"
   ]
  },
  {
   "cell_type": "code",
   "execution_count": 211,
   "metadata": {},
   "outputs": [],
   "source": [
    "def find_song(artist, track):\n",
    "    results = []\n",
    "    artists_list = []\n",
    "    params_get_artists = {\n",
    "        \"method\" : \"artist.search\",\n",
    "        \"format\" : \"json\",\n",
    "        \"limit\" : 100,\n",
    "        \"artist\" : artist,\n",
    "        \"api_key\" : api_key\n",
    "    }\n",
    "    artists = requests.get('http://ws.audioscrobbler.com/2.0/', params=params_get_artists)\n",
    "    for artist in artists.json()['results']['artistmatches']['artist']:\n",
    "            artists_list.append(artist['name'])\n",
    "\n",
    "    tracks_list = []\n",
    "    params_get_tracks = {\n",
    "        \"method\" : \"track.search\",\n",
    "        \"format\" : \"json\",\n",
    "        \"limit\" : 100,\n",
    "        \"track\" : track,\n",
    "        \"api_key\" : api_key\n",
    "    }\n",
    "    tracks = requests.get('http://ws.audioscrobbler.com/2.0/', params=params_get_tracks)\n",
    "    for track in tracks.json()['results']['trackmatches']['track']:\n",
    "        if track['artist'] in artists_list:\n",
    "            return_track = track['name']\n",
    "            return_artist = track['artist']\n",
    "            results.append((return_artist, return_track))\n",
    "    if len(results) > 0:\n",
    "        return results\n",
    "    return('Could not find track. Please search again.')"
   ]
  },
  {
   "cell_type": "code",
   "execution_count": 216,
   "metadata": {},
   "outputs": [
    {
     "data": {
      "text/plain": [
       "[('King Gizzard & The Lizard Wizard', 'Honey')]"
      ]
     },
     "execution_count": 216,
     "metadata": {},
     "output_type": "execute_result"
    }
   ],
   "source": [
    "find_song(artist = 'King Gizz', track = \"honey\")"
   ]
  },
  {
   "cell_type": "code",
   "execution_count": 213,
   "metadata": {},
   "outputs": [
    {
     "data": {
      "text/plain": [
       "[('Richie Havens', 'All Along the Watchtower')]"
      ]
     },
     "execution_count": 213,
     "metadata": {},
     "output_type": "execute_result"
    }
   ],
   "source": [
    "find_song(artist = 'have', track = \"watchtower\")"
   ]
  },
  {
   "cell_type": "code",
   "execution_count": null,
   "metadata": {},
   "outputs": [],
   "source": []
  }
 ],
 "metadata": {
  "kernelspec": {
   "display_name": "Python 3",
   "language": "python",
   "name": "python3"
  },
  "language_info": {
   "codemirror_mode": {
    "name": "ipython",
    "version": 3
   },
   "file_extension": ".py",
   "mimetype": "text/x-python",
   "name": "python",
   "nbconvert_exporter": "python",
   "pygments_lexer": "ipython3",
   "version": "3.7.6"
  }
 },
 "nbformat": 4,
 "nbformat_minor": 4
}
