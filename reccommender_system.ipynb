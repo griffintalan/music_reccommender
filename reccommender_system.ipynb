{
 "cells": [
  {
   "cell_type": "code",
   "execution_count": 1,
   "metadata": {},
   "outputs": [],
   "source": [
    "import numpy as np\n",
    "import pandas as pd\n",
    "import requests\n",
    "import time"
   ]
  },
  {
   "cell_type": "code",
   "execution_count": 2,
   "metadata": {},
   "outputs": [],
   "source": [
    "api_key = \"6bb7f55c691d1bdff841fdc67934b3b8\""
   ]
  },
  {
   "cell_type": "markdown",
   "metadata": {},
   "source": [
    "### Find Song"
   ]
  },
  {
   "cell_type": "code",
   "execution_count": 3,
   "metadata": {},
   "outputs": [],
   "source": [
    "def find_song(artist, track):\n",
    "    results = []\n",
    "    artists_list = []\n",
    "    params_get_artists = {\n",
    "        \"method\" : \"artist.search\",\n",
    "        \"format\" : \"json\",\n",
    "        \"limit\" : 100,\n",
    "        \"artist\" : artist,\n",
    "        \"api_key\" : api_key\n",
    "    }\n",
    "    artists = requests.get('http://ws.audioscrobbler.com/2.0/', params=params_get_artists)\n",
    "    for artist in artists.json()['results']['artistmatches']['artist']:\n",
    "            artists_list.append(artist['name'])\n",
    "\n",
    "    tracks_list = []\n",
    "    params_get_tracks = {\n",
    "        \"method\" : \"track.search\",\n",
    "        \"format\" : \"json\",\n",
    "        \"limit\" : 100,\n",
    "        \"track\" : track,\n",
    "        \"api_key\" : api_key\n",
    "    }\n",
    "    tracks = requests.get('http://ws.audioscrobbler.com/2.0/', params=params_get_tracks)\n",
    "    for track in tracks.json()['results']['trackmatches']['track']:\n",
    "        if track['artist'] in artists_list:\n",
    "            return_track = track['name']\n",
    "            return_artist = track['artist']\n",
    "            results.append((return_artist, return_track))\n",
    "    if len(results) > 0:\n",
    "        return results\n",
    "    return('Could not find track. Please search again.')"
   ]
  },
  {
   "cell_type": "markdown",
   "metadata": {},
   "source": [
    "## Get Results"
   ]
  },
  {
   "cell_type": "code",
   "execution_count": 13,
   "metadata": {},
   "outputs": [
    {
     "name": "stdout",
     "output_type": "stream",
     "text": [
      "50 Cent\n",
      "In Da Club\n"
     ]
    }
   ],
   "source": [
    "results = find_song(artist = '50', track = \"da club\")\n",
    "result_artist = results[0][0]\n",
    "result_track = results[0][1]\n",
    "print(result_artist)\n",
    "print(result_track)"
   ]
  },
  {
   "cell_type": "markdown",
   "metadata": {},
   "source": [
    "## Get Artist Info"
   ]
  },
  {
   "cell_type": "code",
   "execution_count": 14,
   "metadata": {},
   "outputs": [],
   "source": [
    "def get_artist_info(result_artist):\n",
    "    params_artist_info = {\n",
    "    \"method\" : \"artist.getInfo\",\n",
    "    \"format\" : \"json\",\n",
    "    \"artist\" : result_artist,\n",
    "    \"api_key\" : api_key\n",
    "}\n",
    "    artist_info = requests.get('http://ws.audioscrobbler.com/2.0/', params=params_artist_info)\n",
    "    return artist_info.json()['artist']['bio']['content']"
   ]
  },
  {
   "cell_type": "code",
   "execution_count": 15,
   "metadata": {},
   "outputs": [
    {
     "data": {
      "text/plain": [
       "'Curtis James Jackson III (born July 6, 1975 in South Jamaica, Queens, New York), better known by his stage name 50 Cent, is a Grammy award nominated rapper, actor, singer, entrepreneur, author and founder of the hip hop group and label G-Unit. \\n\\nAfter leaving drug dealing to pursue a rap career, he released his debut album Guess Who\\'s Back Again in 2002. He was discovered by Eminem and Dr. Dre and then signed to Interscope Records. He has since released Get Rich or Die Tryin\\' (2003), The Massacre (2006), Curtis (2007) and Before I Self Destruct (2009).\\n\\n50 Cent has engaged in feuds with other rappers including Jay-Z, Ja Rule, The Game, Cam\\'ron, Fat Joe, and Rick Ross. He has also pursued an acting career, appearing in the semi-autobiographical film Get Rich or Die Tryin\\' in 2005, the Iraq War film Home of the Brave in 2006, and Righteous Kill in 2008. 50 Cent is one of the richest hip-hop performers, having a net worth estimated at US $440 million in 2008.\\n\\nBefore 50 Cent ever inked a major deal, he built up a substantial fan base in New York through underground mixtapes. 50 Cent met up with Jam Master Jay of Run-DMC and was signed to his label to write all of Jay’s music. After he’d left JMJ, he signed to Columbia Records in 1996. On this label, he released Power of the Dollar, and the singles How to Rob and Ghetto Qua Ran. Columbia Records released him from the label after being shot on May 24th, 2000.\\n\\nAround this time, Eminem had heard one of 50 Cent’s demo tapes and expressed a huge interest in him on MTV, as did Dr. Dre. Shortly after this, 50 Cent officially signed to Interscope Records. He was the first rapper to sign to the joint label owned by Dr. Dre and Eminem. The first song he released on this record was entitled Wanksta and was featured on the 8 Mile soundtrack.\\n\\nIn its first week of release, his debut ”Get Rich Or Die Tryin’” sold 872,000 units - easily reaching Gold status. Within the second week it went Platinum (1 mil) and on April 12th, 2004 the RIAA certified it six times Platinum.\\n\\nIn 2005 he followed the success of his album Get Rich or Die Tryin’ with a new release - The Massacre (originally called St. Valentines Day Massacre until the release date was pushed back). The first single released off this, Disco Inferno, was a huge hit - he followed this hit up by the release of Candy Shop and then again with Just a Lil Bit.\\n\\nIn 2003 Interscope Records allowed 50 Cent to have his own label - G-Unit Records. He first signed Lloyd Banks, Tony Yayo and Young Buck as the established members of G-Unit Records. In 2004, Dr. Dre and 50 Cent had signed The Game under a joint venture. \\n\\n <a href=\"https://www.last.fm/music/50+Cent\">Read more on Last.fm</a>. User-contributed text is available under the Creative Commons By-SA License; additional terms may apply.'"
      ]
     },
     "execution_count": 15,
     "metadata": {},
     "output_type": "execute_result"
    }
   ],
   "source": [
    "get_artist_info(result_artist)"
   ]
  },
  {
   "cell_type": "markdown",
   "metadata": {},
   "source": [
    "## Get Track Info"
   ]
  },
  {
   "cell_type": "code",
   "execution_count": 16,
   "metadata": {},
   "outputs": [],
   "source": [
    "def get_track_info(result_artist, result_track):\n",
    "    params_track_info = {\n",
    "    \"method\" : \"track.getInfo\",\n",
    "    \"format\" : \"json\",\n",
    "    \"artist\" : result_artist,\n",
    "    \"track\" : result_track,\n",
    "    \"api_key\" : api_key\n",
    "}\n",
    "    track_info = requests.get('http://ws.audioscrobbler.com/2.0/', params=params_track_info)\n",
    "    try:\n",
    "        return track_info.json()['track']['wiki']['content']\n",
    "    except:\n",
    "        return"
   ]
  },
  {
   "cell_type": "code",
   "execution_count": 17,
   "metadata": {},
   "outputs": [
    {
     "data": {
      "text/plain": [
       "'\"In Da Club\" is a hip hop song performed by rapper 50 Cent for his commercial debut album Get Rich or Die Tryin\\'. The song was produced by Dr. Dre with co-production from Mike Elizondo. 50 Cent, Dr. Dre, and Elizondo also wrote the song. The track was released in late 2002 as the album\\'s lead single and was well received by music critics.\\n\\n\"In Da Club\" became 50 Cent\\'s first number one single and was one of 2003\\'s most popular songs after reaching number one in the United States and peaking inside the top five on the majority of the European charts it entered. At the 46th Grammy Awards, it was nominated for Best Male Rap Solo Performance and Best Rap Song.\\n\\nAfter 50 Cent was discovered by Eminem in 2002, he was invited to fly to Los Angeles where he was introduced to Dr. Dre. 50 Cent recorded seven songs in five days with Dr. Dre, with \"In da Club\" being the first track they recorded. 50 Cent described the studio sessions saying:\\n\\nDre, he\\'ll play dope beats... [He\\'ll say], \\'These are the hits, 50. So pick one of these and make a couple of singles or something.\\' The very first time he heard [me rap on] \\'In Da Club\\' he said, \\'Yo, I didn\\'t think you was going to go there with it, but, you know, it works.\\' He was probably thinking of going in a different direction with that song. Then he expanded it into a hit record.\\n\\nThe production was originally given to the hip hop group D12, but was passed on to 50 Cent. The rapper recorded the track with only the drum beat present. Since much of the content on Get Rich or Die Tryin\\' was \"dark\", he wanted to write material that was \"the exact opposite\". He called the song a \"celebration of life. Every day it\\'s relevant all over \\'cause every day is someone\\'s birthday.\" <a href=\"http://www.last.fm/music/50+Cent/_/In+Da+Club\">Read more on Last.fm</a>. User-contributed text is available under the Creative Commons By-SA License; additional terms may apply.'"
      ]
     },
     "execution_count": 17,
     "metadata": {},
     "output_type": "execute_result"
    }
   ],
   "source": [
    "get_track_info(result_artist, result_track)"
   ]
  },
  {
   "cell_type": "markdown",
   "metadata": {},
   "source": [
    "## Get Similar Tracks"
   ]
  },
  {
   "cell_type": "code",
   "execution_count": 18,
   "metadata": {},
   "outputs": [],
   "source": [
    "def get_similar_tracks(result_artist, result_track):\n",
    "    params_get_similar_tracks = {\n",
    "        \"method\" : \"track.getSimilar\",\n",
    "        \"format\" : \"json\",\n",
    "        \"artist\" : result_artist,\n",
    "        \"track\" : result_track,\n",
    "        \"api_key\" : api_key\n",
    "    }\n",
    "    similar_tracks = requests.get('http://ws.audioscrobbler.com/2.0/', params=params_get_similar_tracks)\n",
    "    counter = 1\n",
    "    for track in similar_tracks.json()['similartracks']['track'][:10]:\n",
    "        return_similar_track = track['name']\n",
    "        return_similar_artist = track['artist']['name']\n",
    "        if counter < 10:\n",
    "            print(f' {counter}. {return_similar_track} - {return_similar_artist}')\n",
    "        else:\n",
    "            print(f'{counter}. {return_similar_track} - {return_similar_artist}')\n",
    "        counter += 1"
   ]
  },
  {
   "cell_type": "code",
   "execution_count": 19,
   "metadata": {},
   "outputs": [
    {
     "name": "stdout",
     "output_type": "stream",
     "text": [
      " 1. P.I.M.P. - 50 Cent\n",
      " 2. High All The Time - 50 Cent\n",
      " 3. Purple Pills - D12\n",
      " 4. My Band - D12\n",
      " 5. Right for Me - Eminem\n",
      " 6. Lose Yourself - Eminem\n",
      " 7. The Setup - Obie Trice\n",
      " 8. Y'all Ready Know - Slaughterhouse\n",
      " 9. Vegas - Bad Meets Evil\n",
      "10. Still D.R.E. - Dr. Dre\n"
     ]
    }
   ],
   "source": [
    "get_similar_tracks(result_artist, result_track)"
   ]
  },
  {
   "cell_type": "markdown",
   "metadata": {},
   "source": [
    "## Get Similar Artists"
   ]
  },
  {
   "cell_type": "code",
   "execution_count": 20,
   "metadata": {},
   "outputs": [],
   "source": [
    "def get_similar_artists(result_artist):\n",
    "    params_get_similar_artists = {\n",
    "        \"method\" : \"artist.getSimilar\",\n",
    "        \"format\" : \"json\",\n",
    "        \"artist\" : result_artist,\n",
    "        \"api_key\" : api_key\n",
    "    }\n",
    "    similar_artists = requests.get('http://ws.audioscrobbler.com/2.0/', params=params_get_similar_artists)\n",
    "    counter = 1\n",
    "    for artist in similar_artists.json()['similarartists']['artist'][:10]:\n",
    "        return_similar_artist_art = artist['name']\n",
    "        if counter < 10:\n",
    "            print(f' {counter}. {return_similar_artist_art}')\n",
    "        else:\n",
    "            print(f'{counter}. {return_similar_artist_art}')\n",
    "        counter += 1"
   ]
  },
  {
   "cell_type": "code",
   "execution_count": 21,
   "metadata": {},
   "outputs": [
    {
     "name": "stdout",
     "output_type": "stream",
     "text": [
      " 1. G-Unit\n",
      " 2. Lloyd Banks\n",
      " 3. Tony Yayo\n",
      " 4. The Game\n",
      " 5. D12\n",
      " 6. Eminem\n",
      " 7. Obie Trice\n",
      " 8. DMX\n",
      " 9. 2Pac\n",
      "10. Young Buck\n"
     ]
    }
   ],
   "source": [
    "get_similar_artists(result_artist)"
   ]
  },
  {
   "cell_type": "code",
   "execution_count": null,
   "metadata": {},
   "outputs": [],
   "source": []
  }
 ],
 "metadata": {
  "kernelspec": {
   "display_name": "Python 3",
   "language": "python",
   "name": "python3"
  },
  "language_info": {
   "codemirror_mode": {
    "name": "ipython",
    "version": 3
   },
   "file_extension": ".py",
   "mimetype": "text/x-python",
   "name": "python",
   "nbconvert_exporter": "python",
   "pygments_lexer": "ipython3",
   "version": "3.7.6"
  }
 },
 "nbformat": 4,
 "nbformat_minor": 4
}
