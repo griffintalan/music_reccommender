{
 "cells": [
  {
   "cell_type": "code",
   "execution_count": 1,
   "metadata": {},
   "outputs": [],
   "source": [
    "import numpy as np\n",
    "import pandas as pd\n",
    "import requests\n",
    "import time"
   ]
  },
  {
   "cell_type": "code",
   "execution_count": 2,
   "metadata": {},
   "outputs": [],
   "source": [
    "api_key = \"6bb7f55c691d1bdff841fdc67934b3b8\""
   ]
  },
  {
   "cell_type": "markdown",
   "metadata": {},
   "source": [
    "### Find Song"
   ]
  },
  {
   "cell_type": "code",
   "execution_count": 4,
   "metadata": {},
   "outputs": [],
   "source": [
    "def find_song(artist, track):\n",
    "    results = []\n",
    "    artists_list = []\n",
    "    params_get_artists = {\n",
    "        \"method\" : \"artist.search\",\n",
    "        \"format\" : \"json\",\n",
    "        \"limit\" : 100,\n",
    "        \"artist\" : artist,\n",
    "        \"api_key\" : api_key\n",
    "    }\n",
    "    artists = requests.get('http://ws.audioscrobbler.com/2.0/', params=params_get_artists)\n",
    "    for artist in artists.json()['results']['artistmatches']['artist']:\n",
    "            artists_list.append(artist['name'])\n",
    "\n",
    "    tracks_list = []\n",
    "    params_get_tracks = {\n",
    "        \"method\" : \"track.search\",\n",
    "        \"format\" : \"json\",\n",
    "        \"limit\" : 100,\n",
    "        \"track\" : track,\n",
    "        \"api_key\" : api_key\n",
    "    }\n",
    "    tracks = requests.get('http://ws.audioscrobbler.com/2.0/', params=params_get_tracks)\n",
    "    for track in tracks.json()['results']['trackmatches']['track']:\n",
    "        if track['artist'] in artists_list:\n",
    "            return_track = track['name']\n",
    "            return_artist = track['artist']\n",
    "            results.append((return_artist, return_track))\n",
    "    if len(results) > 0:\n",
    "        return results\n",
    "    return('Could not find track. Please search again.')"
   ]
  },
  {
   "cell_type": "markdown",
   "metadata": {},
   "source": [
    "## Get Results"
   ]
  },
  {
   "cell_type": "code",
   "execution_count": 92,
   "metadata": {},
   "outputs": [
    {
     "name": "stdout",
     "output_type": "stream",
     "text": [
      "*NSYNC\n",
      "Bye Bye Bye\n"
     ]
    }
   ],
   "source": [
    "results = find_song(artist = 'nsync', track = \"bye\")\n",
    "result_artist = results[0][0]\n",
    "result_track = results[0][1]\n",
    "print(result_artist)\n",
    "print(result_track)"
   ]
  },
  {
   "cell_type": "markdown",
   "metadata": {},
   "source": [
    "## Get Artist Info"
   ]
  },
  {
   "cell_type": "code",
   "execution_count": 74,
   "metadata": {},
   "outputs": [],
   "source": [
    "def get_artist_info(result_artist):\n",
    "    params_artist_info = {\n",
    "    \"method\" : \"artist.getInfo\",\n",
    "    \"format\" : \"json\",\n",
    "    \"artist\" : result_artist,\n",
    "    \"api_key\" : api_key\n",
    "}\n",
    "    artist_info = requests.get('http://ws.audioscrobbler.com/2.0/', params=params_artist_info)\n",
    "    content = artist_info.json()['artist']['bio']['content']\n",
    "    listeners = artist_info.json()['artist']['stats']['listeners']\n",
    "    playcount = artist_info.json()['artist']['stats']['playcount']\n",
    "    print(f'Listeners: {listeners}')\n",
    "    print('')\n",
    "    print(f'Playcount: {playcount}')\n",
    "    print('\\n')\n",
    "    print(f'Artist Info: {content}')"
   ]
  },
  {
   "cell_type": "code",
   "execution_count": 93,
   "metadata": {},
   "outputs": [
    {
     "name": "stdout",
     "output_type": "stream",
     "text": [
      "Listeners: 1028153\n",
      "\n",
      "Playcount: 13870752\n",
      "\n",
      "\n",
      "Artist Info: *NSYNC was an American pop boy band that is widely regarded as one of the most successful pop acts of the late '90s and early 2000s, selling over 56 million records worldwide. Formed in Orlando, Florida in 1995, the group consists of Lance Bass, JC Chasez, Joey Fatone, Chris Kirkpatrick and Justin Timberlake. \n",
      "\n",
      "The band released three regular studio albums, *NSYNC (1998), No Strings Attached (2000), and Celebrity (2001), as well as the full length Christmas album Home for Christmas (1998).\n",
      "\n",
      "The group went on an extended hiatus in spring 2002, and only Timberlake and Chasez have gone on to release solo albums. <a href=\"https://www.last.fm/music/%2ANSYNC\">Read more on Last.fm</a>. User-contributed text is available under the Creative Commons By-SA License; additional terms may apply.\n"
     ]
    }
   ],
   "source": [
    "get_artist_info(result_artist)"
   ]
  },
  {
   "cell_type": "markdown",
   "metadata": {},
   "source": [
    "## Get Track Info"
   ]
  },
  {
   "cell_type": "code",
   "execution_count": 76,
   "metadata": {},
   "outputs": [],
   "source": [
    "def get_track_info(result_artist, result_track):\n",
    "    params_track_info = {\n",
    "    \"method\" : \"track.getInfo\",\n",
    "    \"format\" : \"json\",\n",
    "    \"artist\" : result_artist,\n",
    "    \"track\" : result_track,\n",
    "    \"api_key\" : api_key\n",
    "}\n",
    "    track_info = requests.get('http://ws.audioscrobbler.com/2.0/', params=params_track_info)\n",
    "    try:\n",
    "        track_content = track_info.json()['track']['wiki']['content']\n",
    "    except:\n",
    "        pass\n",
    "    duration = track_info.json()['track']['duration']\n",
    "    if int(duration) > 0:\n",
    "        print(f\"Duration: {duration}\")\n",
    "    print(f\"Listeners: {track_info.json()['track']['listeners']}\")\n",
    "    print(f\"Playcount: {track_info.json()['track']['playcount']}\")\n",
    "    try:\n",
    "        print(f\"Album: {track_info.json()['track']['album']['title']}\")\n",
    "    except:\n",
    "        pass"
   ]
  },
  {
   "cell_type": "code",
   "execution_count": 94,
   "metadata": {},
   "outputs": [
    {
     "name": "stdout",
     "output_type": "stream",
     "text": [
      "Duration: 199000\n",
      "Listeners: 452208\n",
      "Playcount: 2159606\n",
      "Album: No Strings Attached\n"
     ]
    }
   ],
   "source": [
    "get_track_info(result_artist, result_track)"
   ]
  },
  {
   "cell_type": "markdown",
   "metadata": {},
   "source": [
    "## Get Similar Tracks"
   ]
  },
  {
   "cell_type": "code",
   "execution_count": 82,
   "metadata": {},
   "outputs": [],
   "source": [
    "def get_similar_tracks(result_artist, result_track):\n",
    "    params_get_similar_tracks = {\n",
    "        \"method\" : \"track.getSimilar\",\n",
    "        \"format\" : \"json\",\n",
    "        \"artist\" : result_artist,\n",
    "        \"track\" : result_track,\n",
    "        \"api_key\" : api_key\n",
    "    }\n",
    "    similar_tracks = requests.get('http://ws.audioscrobbler.com/2.0/', params=params_get_similar_tracks)\n",
    "    counter = 1\n",
    "    for track in similar_tracks.json()['similartracks']['track'][:10]:\n",
    "        return_similar_track = track['name']\n",
    "        return_similar_artist = track['artist']['name']\n",
    "        print(f'Track: {return_similar_track}')\n",
    "        print(f'Artist: {return_similar_artist}')\n",
    "        get_track_info(return_similar_artist, return_similar_track)\n",
    "        print('')"
   ]
  },
  {
   "cell_type": "code",
   "execution_count": 95,
   "metadata": {},
   "outputs": [
    {
     "name": "stdout",
     "output_type": "stream",
     "text": [
      "Track: It's Gonna Be Me\n",
      "Artist: *NSYNC\n",
      "Duration: 191000\n",
      "Listeners: 252080\n",
      "Playcount: 1302937\n",
      "Album: No Strings Attached\n",
      "\n",
      "Track: I Want You Back\n",
      "Artist: *NSYNC\n",
      "Duration: 200000\n",
      "Listeners: 76335\n",
      "Playcount: 444886\n",
      "Album: *NSYNC\n",
      "\n",
      "Track: Larger Than Life\n",
      "Artist: Backstreet Boys\n",
      "Duration: 232000\n",
      "Listeners: 266136\n",
      "Playcount: 1267167\n",
      "Album: Millennium\n",
      "\n",
      "Track: I Want It That Way\n",
      "Artist: Backstreet Boys\n",
      "Duration: 214000\n",
      "Listeners: 645341\n",
      "Playcount: 3503180\n",
      "Album: Millennium\n",
      "\n",
      "Track: Genie in a Bottle\n",
      "Artist: Christina Aguilera\n",
      "Duration: 216000\n",
      "Listeners: 609378\n",
      "Playcount: 2849360\n",
      "Album: Christina Aguilera\n",
      "\n",
      "Track: Toxic\n",
      "Artist: Britney Spears\n",
      "Duration: 199000\n",
      "Listeners: 992536\n",
      "Playcount: 7246376\n",
      "Album: In the Zone\n",
      "\n",
      "Track: Wannabe\n",
      "Artist: Spice Girls\n",
      "Duration: 172000\n",
      "Listeners: 508507\n",
      "Playcount: 2476020\n",
      "Album: Spice\n",
      "\n",
      "Track: ...Baby One More Time\n",
      "Artist: Britney Spears\n",
      "Duration: 210000\n",
      "Listeners: 661521\n",
      "Playcount: 4250267\n",
      "Album: Greatest Hits: My Prerogative\n",
      "\n",
      "Track: Spice Up Your Life\n",
      "Artist: Spice Girls\n",
      "Duration: 173000\n",
      "Listeners: 308793\n",
      "Playcount: 1393733\n",
      "Album: Spiceworld\n",
      "\n",
      "Track: What a Girl Wants\n",
      "Artist: Christina Aguilera\n",
      "Duration: 232000\n",
      "Listeners: 286184\n",
      "Playcount: 1276848\n",
      "Album: Christina Aguilera\n",
      "\n"
     ]
    }
   ],
   "source": [
    "get_similar_tracks(result_artist, result_track)"
   ]
  },
  {
   "cell_type": "markdown",
   "metadata": {},
   "source": [
    "## Get Similar Artists"
   ]
  },
  {
   "cell_type": "code",
   "execution_count": 84,
   "metadata": {},
   "outputs": [],
   "source": [
    "def get_artist_counts(result_artist):\n",
    "    params_artist_counts = {\n",
    "    \"method\" : \"artist.getInfo\",\n",
    "    \"format\" : \"json\",\n",
    "    \"artist\" : result_artist,\n",
    "    \"api_key\" : api_key\n",
    "}\n",
    "    artist_info = requests.get('http://ws.audioscrobbler.com/2.0/', params=params_artist_counts)\n",
    "    listeners = artist_info.json()['artist']['stats']['listeners']\n",
    "    playcount = artist_info.json()['artist']['stats']['playcount']\n",
    "    print(f'Artist: {result_artist}')\n",
    "    print('')\n",
    "    print(f'Listeners: {listeners}')\n",
    "    print('')\n",
    "    print(f'Playcount: {playcount}')\n",
    "    print('\\n')"
   ]
  },
  {
   "cell_type": "code",
   "execution_count": 85,
   "metadata": {},
   "outputs": [],
   "source": [
    "def get_similar_artists(result_artist):\n",
    "    params_get_similar_artists = {\n",
    "        \"method\" : \"artist.getSimilar\",\n",
    "        \"format\" : \"json\",\n",
    "        \"artist\" : result_artist,\n",
    "        \"api_key\" : api_key\n",
    "    }\n",
    "    similar_artists = requests.get('http://ws.audioscrobbler.com/2.0/', params=params_get_similar_artists)\n",
    "    counter = 1\n",
    "    for artist in similar_artists.json()['similarartists']['artist'][:10]:\n",
    "        return_similar_artist_art = artist['name']\n",
    "        get_artist_counts(return_similar_artist_art)"
   ]
  },
  {
   "cell_type": "code",
   "execution_count": 96,
   "metadata": {},
   "outputs": [
    {
     "name": "stdout",
     "output_type": "stream",
     "text": [
      "Artist: Backstreet Boys\n",
      "\n",
      "Listeners: 1525922\n",
      "\n",
      "Playcount: 33609922\n",
      "\n",
      "\n",
      "Artist: O-Town\n",
      "\n",
      "Listeners: 138613\n",
      "\n",
      "Playcount: 982488\n",
      "\n",
      "\n",
      "Artist: JC Chasez\n",
      "\n",
      "Listeners: 85646\n",
      "\n",
      "Playcount: 641688\n",
      "\n",
      "\n",
      "Artist: Five\n",
      "\n",
      "Listeners: 308046\n",
      "\n",
      "Playcount: 2630663\n",
      "\n",
      "\n",
      "Artist: Justin Timberlake\n",
      "\n",
      "Listeners: 2959459\n",
      "\n",
      "Playcount: 78090898\n",
      "\n",
      "\n",
      "Artist: 98 Degrees\n",
      "\n",
      "Listeners: 155449\n",
      "\n",
      "Playcount: 1233691\n",
      "\n",
      "\n",
      "Artist: 98º\n",
      "\n",
      "Listeners: 85839\n",
      "\n",
      "Playcount: 421899\n",
      "\n",
      "\n",
      "Artist: New Kids on the Block\n",
      "\n",
      "Listeners: 372565\n",
      "\n",
      "Playcount: 3429813\n",
      "\n",
      "\n",
      "Artist: Jessica Simpson\n",
      "\n",
      "Listeners: 668158\n",
      "\n",
      "Playcount: 5688941\n",
      "\n",
      "\n",
      "Artist: BBMak\n",
      "\n",
      "Listeners: 142900\n",
      "\n",
      "Playcount: 1017276\n",
      "\n",
      "\n"
     ]
    }
   ],
   "source": [
    "get_similar_artists(result_artist)"
   ]
  },
  {
   "cell_type": "markdown",
   "metadata": {},
   "source": [
    "## twitter API"
   ]
  },
  {
   "cell_type": "code",
   "execution_count": null,
   "metadata": {},
   "outputs": [],
   "source": []
  }
 ],
 "metadata": {
  "kernelspec": {
   "display_name": "Python 3",
   "language": "python",
   "name": "python3"
  },
  "language_info": {
   "codemirror_mode": {
    "name": "ipython",
    "version": 3
   },
   "file_extension": ".py",
   "mimetype": "text/x-python",
   "name": "python",
   "nbconvert_exporter": "python",
   "pygments_lexer": "ipython3",
   "version": "3.7.6"
  }
 },
 "nbformat": 4,
 "nbformat_minor": 4
}
